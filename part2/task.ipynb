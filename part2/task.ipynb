{
  "nbformat": 4,
  "nbformat_minor": 0,
  "metadata": {
    "colab": {
      "name": "kodland-task.ipynb",
      "provenance": [],
      "collapsed_sections": []
    },
    "kernelspec": {
      "name": "python3",
      "display_name": "Python 3"
    },
    "language_info": {
      "name": "python"
    }
  },
  "cells": [
    {
      "cell_type": "code",
      "metadata": {
        "colab": {
          "base_uri": "https://localhost:8080/",
          "height": 204
        },
        "id": "1S89wbmdXzi0",
        "outputId": "5dd14f47-04a9-4a34-ac45-961ba3f1ea71"
      },
      "source": [
        "import pandas as pd\n",
        "import numpy as np\n",
        "import matplotlib.pyplot as plt\n",
        "from datetime import datetime, timedelta\n",
        "import seaborn as sb\n",
        "\n",
        "\n",
        "df = pd.read_csv('2021.csv')\n",
        "df.head()"
      ],
      "execution_count": null,
      "outputs": [
        {
          "output_type": "execute_result",
          "data": {
            "text/html": [
              "<div>\n",
              "<style scoped>\n",
              "    .dataframe tbody tr th:only-of-type {\n",
              "        vertical-align: middle;\n",
              "    }\n",
              "\n",
              "    .dataframe tbody tr th {\n",
              "        vertical-align: top;\n",
              "    }\n",
              "\n",
              "    .dataframe thead th {\n",
              "        text-align: right;\n",
              "    }\n",
              "</style>\n",
              "<table border=\"1\" class=\"dataframe\">\n",
              "  <thead>\n",
              "    <tr style=\"text-align: right;\">\n",
              "      <th></th>\n",
              "      <th>id</th>\n",
              "      <th>age</th>\n",
              "      <th>Дата первого занятия</th>\n",
              "      <th>Курс</th>\n",
              "      <th>М2</th>\n",
              "    </tr>\n",
              "  </thead>\n",
              "  <tbody>\n",
              "    <tr>\n",
              "      <th>0</th>\n",
              "      <td>2538</td>\n",
              "      <td>11.0</td>\n",
              "      <td>28.02.2021</td>\n",
              "      <td>Unity</td>\n",
              "      <td>0</td>\n",
              "    </tr>\n",
              "    <tr>\n",
              "      <th>1</th>\n",
              "      <td>2615</td>\n",
              "      <td>12.0</td>\n",
              "      <td>14.02.2021</td>\n",
              "      <td>Unity</td>\n",
              "      <td>0</td>\n",
              "    </tr>\n",
              "    <tr>\n",
              "      <th>2</th>\n",
              "      <td>2643</td>\n",
              "      <td>14.0</td>\n",
              "      <td>21.02.2021</td>\n",
              "      <td>Веб-дизайн</td>\n",
              "      <td>1</td>\n",
              "    </tr>\n",
              "    <tr>\n",
              "      <th>3</th>\n",
              "      <td>2968</td>\n",
              "      <td>11.0</td>\n",
              "      <td>24.01.2021</td>\n",
              "      <td>Python Базовый</td>\n",
              "      <td>0</td>\n",
              "    </tr>\n",
              "    <tr>\n",
              "      <th>4</th>\n",
              "      <td>3014</td>\n",
              "      <td>15.0</td>\n",
              "      <td>14.03.2021</td>\n",
              "      <td>Веб-дизайн</td>\n",
              "      <td>1</td>\n",
              "    </tr>\n",
              "  </tbody>\n",
              "</table>\n",
              "</div>"
            ],
            "text/plain": [
              "     id   age Дата первого занятия            Курс  М2\n",
              "0  2538  11.0           28.02.2021           Unity   0\n",
              "1  2615  12.0           14.02.2021           Unity   0\n",
              "2  2643  14.0           21.02.2021      Веб-дизайн   1\n",
              "3  2968  11.0           24.01.2021  Python Базовый   0\n",
              "4  3014  15.0           14.03.2021      Веб-дизайн   1"
            ]
          },
          "metadata": {
            "tags": []
          },
          "execution_count": 249
        }
      ]
    },
    {
      "cell_type": "code",
      "metadata": {
        "colab": {
          "base_uri": "https://localhost:8080/",
          "height": 204
        },
        "id": "6Oo2qrHjYVPJ",
        "outputId": "19d29af5-9454-400c-d483-5fe701254db5"
      },
      "source": [
        "# Предобработка\n",
        "df = df.dropna()\n",
        "df['Дата первого занятия'] = df['Дата первого занятия'].apply(lambda date: datetime.strptime(date, '%d.%m.%Y'))\n",
        "df['age'] = df['age'].astype(int)\n",
        "df.head()"
      ],
      "execution_count": null,
      "outputs": [
        {
          "output_type": "execute_result",
          "data": {
            "text/html": [
              "<div>\n",
              "<style scoped>\n",
              "    .dataframe tbody tr th:only-of-type {\n",
              "        vertical-align: middle;\n",
              "    }\n",
              "\n",
              "    .dataframe tbody tr th {\n",
              "        vertical-align: top;\n",
              "    }\n",
              "\n",
              "    .dataframe thead th {\n",
              "        text-align: right;\n",
              "    }\n",
              "</style>\n",
              "<table border=\"1\" class=\"dataframe\">\n",
              "  <thead>\n",
              "    <tr style=\"text-align: right;\">\n",
              "      <th></th>\n",
              "      <th>id</th>\n",
              "      <th>age</th>\n",
              "      <th>Дата первого занятия</th>\n",
              "      <th>Курс</th>\n",
              "      <th>М2</th>\n",
              "    </tr>\n",
              "  </thead>\n",
              "  <tbody>\n",
              "    <tr>\n",
              "      <th>0</th>\n",
              "      <td>2538</td>\n",
              "      <td>11</td>\n",
              "      <td>2021-02-28</td>\n",
              "      <td>Unity</td>\n",
              "      <td>0</td>\n",
              "    </tr>\n",
              "    <tr>\n",
              "      <th>1</th>\n",
              "      <td>2615</td>\n",
              "      <td>12</td>\n",
              "      <td>2021-02-14</td>\n",
              "      <td>Unity</td>\n",
              "      <td>0</td>\n",
              "    </tr>\n",
              "    <tr>\n",
              "      <th>2</th>\n",
              "      <td>2643</td>\n",
              "      <td>14</td>\n",
              "      <td>2021-02-21</td>\n",
              "      <td>Веб-дизайн</td>\n",
              "      <td>1</td>\n",
              "    </tr>\n",
              "    <tr>\n",
              "      <th>3</th>\n",
              "      <td>2968</td>\n",
              "      <td>11</td>\n",
              "      <td>2021-01-24</td>\n",
              "      <td>Python Базовый</td>\n",
              "      <td>0</td>\n",
              "    </tr>\n",
              "    <tr>\n",
              "      <th>4</th>\n",
              "      <td>3014</td>\n",
              "      <td>15</td>\n",
              "      <td>2021-03-14</td>\n",
              "      <td>Веб-дизайн</td>\n",
              "      <td>1</td>\n",
              "    </tr>\n",
              "  </tbody>\n",
              "</table>\n",
              "</div>"
            ],
            "text/plain": [
              "     id  age Дата первого занятия            Курс  М2\n",
              "0  2538   11           2021-02-28           Unity   0\n",
              "1  2615   12           2021-02-14           Unity   0\n",
              "2  2643   14           2021-02-21      Веб-дизайн   1\n",
              "3  2968   11           2021-01-24  Python Базовый   0\n",
              "4  3014   15           2021-03-14      Веб-дизайн   1"
            ]
          },
          "metadata": {
            "tags": []
          },
          "execution_count": 250
        }
      ]
    },
    {
      "cell_type": "code",
      "metadata": {
        "id": "z6xNXOW_jU-l"
      },
      "source": [
        "def get_count_by_course(course, m2=False):\n",
        "  if not m2:    \n",
        "    return len(df[(datetime(2021, 4, 1) < df['Дата первого занятия'] + \n",
        "                  timedelta(days=28)) & (df['М2'] == 0) & (df['Курс'] == course)])\n",
        "  return len(df[(datetime(2021, 4, 1) >= df['Дата первого занятия'] + \n",
        "                  timedelta(days=28)) & (df['М2'] == 1) & (df['Курс'] == course)])"
      ],
      "execution_count": 415,
      "outputs": []
    },
    {
      "cell_type": "code",
      "metadata": {
        "colab": {
          "base_uri": "https://localhost:8080/",
          "height": 281
        },
        "id": "GtiekawTfcnb",
        "outputId": "e1264e47-9030-4471-f101-0f3e58961b67"
      },
      "source": [
        "courses = ['Python Базовый', 'Веб-дизайн', 'Unity']\n",
        "python_basic_count1 = get_count_by_course(course=courses[0])\n",
        "python_basic_count2 = get_count_by_course(course=courses[0], m2=True)\n",
        "\n",
        "web_design_count1 = get_count_by_course(course=courses[1])\n",
        "web_design_count2 = get_count_by_course(course=courses[1], m2=True)\n",
        "\n",
        "unity_count1 = get_count_by_course(course=courses[2])\n",
        "unity_count2 = get_count_by_course(course=courses[2], m2=True)\n",
        "\n",
        "x = np.arange(len(courses))\n",
        "width = 0.35\n",
        "\n",
        "y1 = [python_basic_count1, web_design_count1, unity_count1]\n",
        "y2 = [python_basic_count2, web_design_count2, unity_count2]\n",
        "\n",
        "fig, ax1 = plt.subplots()\n",
        "cols1 = ax1.bar(x - width / 2, y1, width, label='Модуль 1')\n",
        "cols2 = ax1.bar(x + width / 2, y2, width, label='Модуль 2')\n",
        "\n",
        "ax1.set_ylabel('Количество учеников')\n",
        "ax1.set_title('Отток учеников за первый квартал 2021 года')\n",
        "ax1.set_xticks(x)\n",
        "ax1.set_xticklabels(courses)\n",
        "\n",
        "ax2 = ax1.twinx()\n",
        "ax2.set_ylabel('Доля оттока, %')\n",
        "\n",
        "y = [(p1 - p2) / p1 * 100 for p1, p2 in zip(y1, y2)]\n",
        "sb.lineplot(y=y, x=x, color='red')\n",
        "\n",
        "ax1.legend()\n",
        "plt.show()"
      ],
      "execution_count": 416,
      "outputs": [
        {
          "output_type": "display_data",
          "data": {
            "image/png": "[encoded data removed]",
            "text/plain": [
              "<Figure size 432x288 with 2 Axes>"
            ]
          },
          "metadata": {
            "tags": [],
            "needs_background": "light"
          }
        }
      ]
    },
    {
      "cell_type": "markdown",
      "metadata": {
        "id": "PbDN9p1B03C-"
      },
      "source": [
        "# Вывод\n",
        "\n",
        "Наблюдается отток учеников после первого модуля для всех курсов:\n",
        "*   наибольший отток зафиксирован для курса **Unity**;\n",
        "*   наименьший отток зафиксирован для курса **Веб-дизайн**."
      ]
    },
    {
      "cell_type": "code",
      "metadata": {
        "id": "wWiDp2dZPR0-"
      },
      "source": [
        "def get_count_by_age(age, m2=False):\n",
        "  if not m2:    \n",
        "    return len(df[(datetime(2021, 4, 1) < df['Дата первого занятия'] + \n",
        "                  timedelta(days=28)) & (df['М2'] == 0) & (df['age'] == age) & (df['Курс'] == 'Python Базовый')])\n",
        "  return len(df[(datetime(2021, 4, 1) >= df['Дата первого занятия'] + \n",
        "                  timedelta(days=28)) & (df['М2'] == 1) & (df['age'] == age) & (df['Курс'] == 'Python Базовый')])"
      ],
      "execution_count": 411,
      "outputs": []
    },
    {
      "cell_type": "code",
      "metadata": {
        "colab": {
          "base_uri": "https://localhost:8080/",
          "height": 281
        },
        "id": "z5S9BvqqNoVi",
        "outputId": "fe699944-d1ff-4cee-f2c8-eb1e21b4b9b4"
      },
      "source": [
        "age = sorted(np.unique(df['age']))\n",
        "\n",
        "x = np.arange(len(age))\n",
        "width = 0.35\n",
        "\n",
        "y1 = [get_count_by_age(age=a) for a in age]\n",
        "y2 = [get_count_by_age(age=a, m2=True) for a in age]\n",
        "\n",
        "fig, ax1 = plt.subplots()\n",
        "cols1 = ax1.bar(x - width / 2, y1, width, label='Модуль 1')\n",
        "cols2 = ax1.bar(x + width / 2, y2, width, label='Модуль 2')\n",
        "\n",
        "ax1.set_ylabel('Количество учеников')\n",
        "ax1.set_title('Отток учеников по возрастам на курсе \"Python Базовый\"')\n",
        "ax1.set_xticks(x)\n",
        "ax1.set_xticklabels(age)\n",
        "\n",
        "ax2 = ax1.twinx()\n",
        "ax2.set_ylabel('Доля оттока, %')\n",
        "\n",
        "y = [(p1 - p2) / p1 * 100 if p1 != 0 else 0 for p1, p2 in zip(y1, y2)]  # + случай, когда количество учеников равно 0\n",
        "sb.lineplot(y=y, x=x, color='red')\n",
        "\n",
        "ax1.legend()\n",
        "plt.show()"
      ],
      "execution_count": 424,
      "outputs": [
        {
          "output_type": "display_data",
          "data": {
            "image/png": "[encoded data removed]",
            "text/plain": [
              "<Figure size 432x288 with 2 Axes>"
            ]
          },
          "metadata": {
            "tags": [],
            "needs_background": "light"
          }
        }
      ]
    },
    {
      "cell_type": "markdown",
      "metadata": {
        "id": "3NH9IgT-YOht"
      },
      "source": [
        "# Вывод\n",
        "\n",
        "Наблюдается отток учеников в возрасте **9-11** и **14-16** лет на данном курсе. Принимаем выдвинутую гипотезу. \n",
        "\n",
        "Замечания:\n",
        "\n",
        "*   Зафикисрован отток 100% среди учеников в возрасте 8 лет;\n",
        "*   Количество учеников в возрасте 8-9 и 17-19 лет стремится к нулю на данном курсе как на первом, так и на втором модулях."
      ]
    }
  ]
}